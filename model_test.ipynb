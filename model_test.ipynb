{
 "cells": [
  {
   "metadata": {},
   "cell_type": "code",
   "source": [
    "import os\n",
    "import re\n",
    "from functools import partial\n",
    "\n",
    "import torch\n",
    "from torch.nn import MSELoss, HuberLoss\n",
    "from torch.utils.data import DataLoader\n",
    "\n",
    "from core.audio_model import AudioModel\n",
    "from core.sisdr_loss import SISDRLoss\n",
    "from core.spectro_feature_loss import SpectroFeatureLoss\n",
    "from utils.device_utils import device_collate_fn, to_device_fn"
   ],
   "id": "initial_id",
   "outputs": [],
   "execution_count": null
  },
  {
   "cell_type": "code",
   "source": [
    "batch_size = 50\n",
    "use_mps = False\n",
    "use_cuda = True\n",
    "\n",
    "dataset_path = '../_datasets/test_valentini_clean_noisy_dataset.pt'\n",
    "model_dir = \"../_models\"\n",
    "model_path = model_dir + \"/speech_denoiser/speech_denoiser_model.pth\"\n",
    "checkpoint_dir = model_dir + \"/speech_denoiser/checkpoints\"\n",
    "checkpoint_format = \"checkpoint_v2_.*.pt\""
   ],
   "metadata": {
    "collapsed": false
   },
   "id": "1756fe47adeb254",
   "outputs": [],
   "execution_count": null
  },
  {
   "metadata": {},
   "cell_type": "code",
   "source": [
    "custom_collate_fn = partial(device_collate_fn, use_cuda=use_cuda, use_mps=use_mps)\n",
    "custom_to_device_fn = partial(to_device_fn, use_cuda=use_cuda, use_mps=use_mps)"
   ],
   "id": "e56fac87265368e4",
   "outputs": [],
   "execution_count": null
  },
  {
   "metadata": {},
   "cell_type": "code",
   "outputs": [],
   "execution_count": null,
   "source": [
    "def get_file_paths(base_path, file_format):\n",
    "    file_paths = []\n",
    "\n",
    "    for root, dirs, files in os.walk(base_path):\n",
    "        for file_name in files:\n",
    "            if re.match(file_format, file_name):\n",
    "                file_paths.append(os.path.join(root, file_name))\n",
    "\n",
    "    return file_paths"
   ],
   "id": "58a85f162c82a0a8"
  },
  {
   "metadata": {},
   "cell_type": "code",
   "outputs": [],
   "execution_count": null,
   "source": [
    "def load_dataset(dataset_file_path, collate_fn):\n",
    "    dataset = torch.load(dataset_file_path)\n",
    "    return DataLoader(dataset, batch_size=batch_size, shuffle=False, collate_fn=collate_fn)\n",
    "\n",
    "def load_model_from_checkpoint(checkpoint_file_path):\n",
    "    checkpoint = torch.load(checkpoint_file_path, map_location=torch.device('cpu'))\n",
    "    state_dict = checkpoint['model_state_dict']\n",
    "    loaded_model = AudioModel()\n",
    "    loaded_model.load_state_dict(state_dict)\n",
    "    loaded_model = custom_to_device_fn(loaded_model)\n",
    "    return loaded_model\n",
    "\n",
    "def load_model(model_file_path):\n",
    "    loaded_model = torch.load(model_file_path, map_location=torch.device('cpu'))\n",
    "    loaded_model = custom_to_device_fn(loaded_model)\n",
    "    return loaded_model"
   ],
   "id": "bdee1bfbecde7851"
  },
  {
   "metadata": {},
   "cell_type": "code",
   "outputs": [],
   "execution_count": null,
   "source": [
    "def evaluate(model, loader):\n",
    "    mse_criterion = MSELoss()\n",
    "    huber_criterion = HuberLoss()\n",
    "    sisdr_criterion = SISDRLoss()\n",
    "    spectro_feature_criterion = SpectroFeatureLoss(transform=custom_to_device_fn)\n",
    "\n",
    "    model.eval()\n",
    "    mse_total_loss = 0.0\n",
    "    huber_total_loss = 0.0\n",
    "    sisdr_total_loss = 0.0\n",
    "    spectro_feature_total_loss = 0.0\n",
    "\n",
    "    with torch.no_grad():\n",
    "        for inputs, targets in loader:\n",
    "            outputs = model(inputs)\n",
    "\n",
    "            mse_loss = mse_criterion(outputs, targets)\n",
    "            mse_total_loss += mse_loss.item() * inputs.size(0)\n",
    "\n",
    "            huber_loss = huber_criterion(outputs, targets)\n",
    "            huber_total_loss += huber_loss.item() * inputs.size(0)\n",
    "\n",
    "            sisdr_loss = sisdr_criterion(outputs, targets)\n",
    "            sisdr_total_loss += sisdr_loss.item() * inputs.size(0)\n",
    "\n",
    "            spectro_feature_loss = spectro_feature_criterion(outputs, targets)\n",
    "            spectro_feature_total_loss += spectro_feature_loss.item() * inputs.size(0)\n",
    "\n",
    "        mse_total_loss = mse_total_loss / len(loader.dataset)\n",
    "        huber_total_loss = huber_total_loss / len(loader.dataset)\n",
    "        sisdr_total_loss = sisdr_total_loss / len(loader.dataset)\n",
    "        spectro_feature_total_loss = spectro_feature_total_loss / len(loader.dataset)\n",
    "\n",
    "        return mse_total_loss, huber_total_loss, sisdr_total_loss, spectro_feature_total_loss"
   ],
   "id": "7a8a5d0b2f4fe910"
  },
  {
   "metadata": {},
   "cell_type": "code",
   "outputs": [],
   "execution_count": null,
   "source": [
    "loader = load_dataset(dataset_path, custom_collate_fn)\n",
    "checkpoint_files = get_file_paths(checkpoint_dir, checkpoint_format)\n",
    "\n",
    "for idx, checkpoint_file in enumerate(checkpoint_files):\n",
    "    model = load_model_from_checkpoint(checkpoint_file)\n",
    "    mse_loss, huber_loss, sisdr_loss, spectro_feature_loss = evaluate(model, loader)\n",
    "    print(f\"Epoch: {idx + 1:2}, MSE: {mse_loss:5.3f}, Huber: {huber_loss:5.3f}, SISDR: {sisdr_loss:6.3f}, Spectro Feature: {spectro_feature_loss:5.3f}\")"
   ],
   "id": "c400d9ece35a0a04"
  }
 ],
 "metadata": {
  "kernelspec": {
   "display_name": "Python 3",
   "language": "python",
   "name": "python3"
  },
  "language_info": {
   "codemirror_mode": {
    "name": "ipython",
    "version": 2
   },
   "file_extension": ".py",
   "mimetype": "text/x-python",
   "name": "python",
   "nbconvert_exporter": "python",
   "pygments_lexer": "ipython2",
   "version": "2.7.6"
  }
 },
 "nbformat": 4,
 "nbformat_minor": 5
}
