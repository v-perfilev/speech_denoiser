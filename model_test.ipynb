{
 "cells": [
  {
   "metadata": {},
   "cell_type": "code",
   "source": [
    "import os\n",
    "from functools import partial\n",
    "\n",
    "import torch\n",
    "from torch.nn import MSELoss, HuberLoss\n",
    "from torch.utils.data import DataLoader\n",
    "\n",
    "from core.audio_model import AudioModel\n",
    "from core.sisdr_loss import SISDRLoss\n",
    "from core.spectro_feature_loss import SpectroFeatureLoss\n",
    "from utils.device_utils import device_collate_fn, to_device_fn"
   ],
   "id": "initial_id",
   "outputs": [],
   "execution_count": null
  },
  {
   "cell_type": "code",
   "source": [
    "dataset_test_path = '../_datasets/test_valentini_clean_noisy_dataset.pt'\n",
    "batch_size = 50\n",
    "use_mps = False\n",
    "use_cuda = True\n",
    "\n",
    "model_dir = '../_models/'\n",
    "os.makedirs(model_dir, exist_ok=True)\n",
    "weights_file_name = model_dir + \"weights_speech_denoiser_model.pth\""
   ],
   "metadata": {
    "collapsed": false
   },
   "id": "1756fe47adeb254",
   "outputs": [],
   "execution_count": null
  },
  {
   "metadata": {},
   "cell_type": "code",
   "source": [
    "custom_collate_fn = partial(device_collate_fn, use_cuda=use_cuda, use_mps=use_mps)\n",
    "custom_to_device_fn = partial(to_device_fn, use_cuda=use_cuda, use_mps=use_mps)"
   ],
   "id": "e56fac87265368e4",
   "outputs": [],
   "execution_count": null
  },
  {
   "metadata": {},
   "cell_type": "code",
   "source": [
    "test_dataset = torch.load(dataset_test_path)\n",
    "test_loader = DataLoader(test_dataset, batch_size=batch_size, shuffle=False, collate_fn=custom_collate_fn)\n",
    "\n",
    "test_loader_len = len(test_loader.dataset)\n",
    "\n",
    "print(f\"Finished test data preparation, test loader size: {test_loader_len}\")"
   ],
   "id": "c37db9c6836c3c6d",
   "outputs": [],
   "execution_count": null
  },
  {
   "cell_type": "code",
   "source": [
    "model = AudioModel()\n",
    "state_dict = torch.load(weights_file_name)\n",
    "model.load_state_dict(state_dict)\n",
    "custom_to_device_fn(model)\n",
    "\n",
    "print('Model initialized')"
   ],
   "metadata": {
    "collapsed": false
   },
   "id": "dd5ea3796a14864c",
   "outputs": [],
   "execution_count": null
  },
  {
   "metadata": {},
   "cell_type": "code",
   "source": [
    "mse_criterion = MSELoss()\n",
    "huber_criterion = HuberLoss()\n",
    "sisdr_criterion = SISDRLoss()\n",
    "spectro_feature_criterion = SpectroFeatureLoss()\n",
    "\n",
    "print('Criteria initialized')"
   ],
   "id": "9aa6a92873034a0e",
   "outputs": [],
   "execution_count": null
  },
  {
   "metadata": {},
   "cell_type": "code",
   "source": [
    "model.eval()\n",
    "\n",
    "mse_total_loss = 0.0\n",
    "huber_total_loss = 0.0\n",
    "sisdr_total_loss = 0.0\n",
    "spectro_feature_total_loss = 0.0\n",
    "\n",
    "with torch.no_grad():\n",
    "    for inputs, targets in test_loader:\n",
    "        outputs = model(inputs)\n",
    "\n",
    "        mse_loss = mse_criterion(outputs, targets)\n",
    "        mse_total_loss += mse_loss.item() * inputs.size(0)\n",
    "\n",
    "        huber_loss = huber_criterion(outputs, targets)\n",
    "        huber_total_loss += huber_loss.item() * inputs.size(0)\n",
    "\n",
    "        sisdr_loss = sisdr_criterion(outputs, targets)\n",
    "        sisdr_total_loss += sisdr_loss.item() * inputs.size(0)\n",
    "\n",
    "        spectro_feature_loss = spectro_feature_criterion(outputs, targets)\n",
    "        spectro_feature_total_loss += spectro_feature_loss.item() * inputs.size(0)\n",
    "\n",
    "    mse_total_loss = mse_total_loss / len(test_loader.dataset)\n",
    "    huber_total_loss = huber_total_loss / len(test_loader.dataset)\n",
    "    sisdr_total_loss = sisdr_total_loss / len(test_loader.dataset)\n",
    "    spectro_feature_total_loss = spectro_feature_total_loss / len(test_loader.dataset)\n",
    "\n",
    "    print(f\"MSE loss on test data: {mse_total_loss:.3f}\")\n",
    "    print(f\"Huber loss on test data: {huber_total_loss:.3f}\")\n",
    "    print(f\"SISDR loss on test data: {sisdr_total_loss:.3f}\")\n",
    "    print(f\"Spectro feature loss on test data: {spectro_feature_total_loss:.3f}\")"
   ],
   "id": "5a401ab2da0c59c9",
   "outputs": [],
   "execution_count": null
  }
 ],
 "metadata": {
  "kernelspec": {
   "display_name": "Python 3",
   "language": "python",
   "name": "python3"
  },
  "language_info": {
   "codemirror_mode": {
    "name": "ipython",
    "version": 2
   },
   "file_extension": ".py",
   "mimetype": "text/x-python",
   "name": "python",
   "nbconvert_exporter": "python",
   "pygments_lexer": "ipython2",
   "version": "2.7.6"
  }
 },
 "nbformat": 4,
 "nbformat_minor": 5
}
