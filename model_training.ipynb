{
 "cells": [
  {
   "metadata": {},
   "cell_type": "code",
   "source": [
    "import os\n",
    "from functools import partial\n",
    "\n",
    "import matplotlib.pyplot as plt\n",
    "import torch\n",
    "from torch.nn import MSELoss\n",
    "from torch.nn.utils import clip_grad_norm_\n",
    "from torch.optim import Adam\n",
    "from torch.optim.lr_scheduler import ReduceLROnPlateau\n",
    "from torch.utils.data import DataLoader, random_split\n",
    "\n",
    "from core.audio_model import AudioModel\n",
    "from datasets.lmdb_clean_noisy_dataset import LmdbCleanNoisyDataset\n",
    "from utils.device_utils import device_collate_fn, to_device_fn"
   ],
   "id": "initial_id",
   "outputs": [],
   "execution_count": null
  },
  {
   "cell_type": "code",
   "source": [
    "train_version = \"v2\"\n",
    "dataset_length = None\n",
    "train_ratio = 0.9\n",
    "batch_size = 256\n",
    "num_workers = 2\n",
    "prefetch_factor = 2\n",
    "pin_memory = True\n",
    "use_mps = False\n",
    "use_cuda = True\n",
    "num_epochs = 50\n",
    "\n",
    "model_dir = '../_models/'\n",
    "os.makedirs(model_dir, exist_ok=True)\n",
    "checkpoint_dir = model_dir + 'checkpoints/'\n",
    "os.makedirs(checkpoint_dir, exist_ok=True)\n",
    "weights_file_name = model_dir + \"weights_speech_denoiser_model.pth\"\n",
    "model_file_name = model_dir + \"speech_denoiser_model.pth\""
   ],
   "metadata": {
    "collapsed": false
   },
   "id": "1756fe47adeb254",
   "outputs": [],
   "execution_count": null
  },
  {
   "metadata": {},
   "cell_type": "code",
   "source": [
    "lmdb_path = '../_datasets/clean_noisy_dataset.lmdb'\n",
    "dataset = LmdbCleanNoisyDataset(lmdb_path)"
   ],
   "id": "16c0fbfa2eb27f52",
   "outputs": [],
   "execution_count": null
  },
  {
   "metadata": {},
   "cell_type": "code",
   "source": [
    "custom_collate_fn = partial(device_collate_fn, use_cuda=use_cuda, use_mps=use_mps)\n",
    "custom_to_device_fn = partial(to_device_fn, use_cuda=use_cuda, use_mps=use_mps)"
   ],
   "id": "e56fac87265368e4",
   "outputs": [],
   "execution_count": null
  },
  {
   "cell_type": "code",
   "source": [
    "print(f'Dataset total size: {len(dataset)}')\n",
    "\n",
    "if dataset_length is not None and dataset_length < len(dataset):\n",
    "  dataset, _ = random_split(dataset, [dataset_length, len(dataset) - dataset_length])\n",
    "\n",
    "dataset_size = len(dataset)\n",
    "train_size = round((dataset_size * train_ratio) / batch_size) * batch_size\n",
    "\n",
    "train_dataset, val_dataset = random_split(dataset, [train_size, dataset_size - train_size])\n",
    "\n",
    "train_loader = DataLoader(train_dataset, batch_size=batch_size, shuffle=True,\n",
    "                          num_workers=num_workers, prefetch_factor=prefetch_factor,\n",
    "                          pin_memory=pin_memory)\n",
    "val_loader = DataLoader(val_dataset, batch_size=batch_size, shuffle=False, num_workers=num_workers,\n",
    "                        prefetch_factor=prefetch_factor, pin_memory=pin_memory)\n",
    "\n",
    "train_loader_len = len(train_loader.dataset)\n",
    "val_loader_len = len(val_loader.dataset)\n",
    "\n",
    "print(\n",
    "  f'Finished train data preparation, train loader size: {train_loader_len}, val loader size: {val_loader_len}')"
   ],
   "metadata": {
    "collapsed": false
   },
   "id": "358f43797c58c78c",
   "outputs": [],
   "execution_count": null
  },
  {
   "cell_type": "code",
   "source": [
    "model = AudioModel()\n",
    "model.init_weights()\n",
    "# state_dict = torch.load(weights_file_name)\n",
    "# model.load_state_dict(state_dict)\n",
    "custom_to_device_fn(model)\n",
    "\n",
    "print('Model initialized')"
   ],
   "metadata": {
    "collapsed": false
   },
   "id": "dd5ea3796a14864c",
   "outputs": [],
   "execution_count": null
  },
  {
   "metadata": {},
   "cell_type": "code",
   "source": [
    "criterion = MSELoss()\n",
    "optimizer = Adam(model.parameters(), lr=1e-4, weight_decay=1e-5)\n",
    "scheduler = ReduceLROnPlateau(optimizer, mode='min', factor=0.1, patience=3, threshold=1e-2,\n",
    "                              cooldown=2, min_lr=1e-7)\n",
    "\n",
    "print('Criterion and optimizer initialized')"
   ],
   "id": "9aa6a92873034a0e",
   "outputs": [],
   "execution_count": null
  },
  {
   "metadata": {},
   "cell_type": "code",
   "source": [
    "train_losses = []\n",
    "val_losses = []"
   ],
   "id": "1711dc836a444a78",
   "outputs": [],
   "execution_count": null
  },
  {
   "cell_type": "code",
   "source": [
    "for epoch in range(num_epochs):\n",
    "  model.train()\n",
    "  running_loss = 0.0\n",
    "  for batch_idx, (inputs, targets) in enumerate(train_loader):\n",
    "    inputs = custom_to_device_fn(inputs)\n",
    "    targets = custom_to_device_fn(targets)\n",
    "    optimizer.zero_grad()\n",
    "    outputs = model(inputs)\n",
    "    loss = criterion(outputs, targets)\n",
    "    loss.backward()\n",
    "    clip_grad_norm_(model.parameters(), max_norm=1.0)\n",
    "    optimizer.step()\n",
    "    running_loss += loss.item() * inputs.size(0)\n",
    "\n",
    "  train_loss = running_loss / len(train_loader.dataset)\n",
    "  train_losses.append(train_loss)\n",
    "\n",
    "  model.eval()\n",
    "  val_loss = 0.0\n",
    "  with torch.no_grad():\n",
    "    for inputs, targets in val_loader:\n",
    "      inputs = custom_to_device_fn(inputs)\n",
    "      targets = custom_to_device_fn(targets)\n",
    "      outputs = model(inputs)\n",
    "      loss = criterion(outputs, targets)\n",
    "      val_loss += loss.item() * inputs.size(0)\n",
    "\n",
    "  val_loss = val_loss / len(val_loader.dataset)\n",
    "  val_losses.append(val_loss)\n",
    "\n",
    "  scheduler.step(val_loss)\n",
    "\n",
    "  lr = optimizer.param_groups[0]['lr']\n",
    "  print(\n",
    "    f\"Epoch: {epoch + 1}, Training Loss: {train_loss:.4f}, Validation Loss: {val_loss:.4f}, Learning Rate: {lr:.1e}\")\n",
    "\n",
    "  checkpoint = {\n",
    "    'epoch': epoch + 1,\n",
    "    'model_state_dict': model.state_dict(),\n",
    "    'optimizer_state_dict': optimizer.state_dict(),\n",
    "    'loss': val_loss\n",
    "  }\n",
    "  torch.save(checkpoint,\n",
    "             f\"{checkpoint_dir}/checkpoint_{train_version}_epoch_{epoch + 1}_loss_{val_loss:.4f}.pt\")\n",
    "\n",
    "print('Finished Training')"
   ],
   "metadata": {
    "collapsed": false,
    "is_executing": true
   },
   "id": "1d45a2e12fb66ba4",
   "outputs": [],
   "execution_count": null
  },
  {
   "cell_type": "code",
   "source": [
    "plt.figure(figsize=(12, 5))\n",
    "plt.subplot(1, 2, 1)\n",
    "plt.plot(train_losses, label='Training Loss')\n",
    "plt.plot(val_losses, label='Validation Loss')\n",
    "plt.xlabel('Epoch')\n",
    "plt.ylabel('Loss')\n",
    "plt.title('Loss during training')\n",
    "plt.legend()\n",
    "\n",
    "plt.show()"
   ],
   "metadata": {
    "collapsed": false,
    "is_executing": true
   },
   "id": "493ead118ef48863",
   "outputs": [],
   "execution_count": null
  },
  {
   "cell_type": "code",
   "source": [
    "torch.save(model.state_dict(), weights_file_name)\n",
    "torch.save(model, model_file_name)\n",
    "\n",
    "print('Model saved')"
   ],
   "metadata": {
    "collapsed": false,
    "is_executing": true
   },
   "id": "50b075676645b9c3",
   "outputs": [],
   "execution_count": null
  }
 ],
 "metadata": {
  "kernelspec": {
   "display_name": "Python 3",
   "language": "python",
   "name": "python3"
  },
  "language_info": {
   "codemirror_mode": {
    "name": "ipython",
    "version": 2
   },
   "file_extension": ".py",
   "mimetype": "text/x-python",
   "name": "python",
   "nbconvert_exporter": "python",
   "pygments_lexer": "ipython2",
   "version": "2.7.6"
  }
 },
 "nbformat": 4,
 "nbformat_minor": 5
}
