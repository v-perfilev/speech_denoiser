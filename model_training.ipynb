{
 "cells": [
  {
   "cell_type": "code",
   "outputs": [],
   "source": [
    "import os\n",
    "\n",
    "import matplotlib.pyplot as plt\n",
    "import torch\n",
    "from torch import nn\n",
    "from torch.optim import lr_scheduler, Adam\n",
    "from torch.utils.data import DataLoader, random_split\n",
    "\n",
    "from core.audio_model import AudioModel\n",
    "from datasets.clean_noisy_dataset import CleanNoisyDataset"
   ],
   "metadata": {
    "collapsed": false
   },
   "id": "initial_id",
   "execution_count": null
  },
  {
   "cell_type": "code",
   "outputs": [],
   "source": [
    "dataset_path = '../_datasets/clean_noisy_dataset.pt'\n",
    "dataset_length = 10000\n",
    "train_ratio = 0.8\n",
    "batch_size = 16\n",
    "use_mps = True\n",
    "num_epochs = 50\n",
    "\n",
    "model_dir = '../_models/'\n",
    "os.makedirs(model_dir, exist_ok=True)\n",
    "weights_file_name = model_dir + \"weights_speech_denoiser_model.pth\"\n",
    "model_file_name = model_dir + \"speech_denoiser_model.pth\""
   ],
   "metadata": {
    "collapsed": false
   },
   "id": "1756fe47adeb254",
   "execution_count": null
  },
  {
   "cell_type": "code",
   "outputs": [],
   "source": [
    "def collate_fn(batch):\n",
    "    device = torch.device(\"mps\" if use_mps and torch.backends.mps.is_available() else \"cpu\")\n",
    "    batch = torch.utils.data.dataloader.default_collate(batch)\n",
    "    batch = [x.to(device).to(torch.float32) for x in batch]\n",
    "    return batch\n",
    "\n",
    "\n",
    "dataset: CleanNoisyDataset = torch.load(dataset_path)\n",
    "if dataset_length is not None and dataset_length < len(dataset):\n",
    "    dataset, _ = random_split(dataset, [dataset_length, len(dataset) - dataset_length])\n",
    "\n",
    "dataset_size = len(dataset)\n",
    "train_size = round((dataset_size * train_ratio) / batch_size) * batch_size\n",
    "\n",
    "train_dataset, val_dataset = random_split(dataset, [train_size, dataset_size - train_size])\n",
    "\n",
    "train_loader = DataLoader(train_dataset, batch_size=batch_size, shuffle=True, collate_fn=collate_fn)\n",
    "val_loader = DataLoader(val_dataset, batch_size=batch_size, shuffle=False, collate_fn=collate_fn)\n",
    "\n",
    "print('Finished data preparation')"
   ],
   "metadata": {
    "collapsed": false
   },
   "id": "358f43797c58c78c",
   "execution_count": null
  },
  {
   "cell_type": "code",
   "outputs": [],
   "source": [
    "def move_model_to_mps(m):\n",
    "    if use_mps and torch.backends.mps.is_available():\n",
    "        device = torch.device(\"mps\")\n",
    "        m.to(device)\n",
    "        m.to(torch.float32)\n",
    "\n",
    "\n",
    "model = AudioModel()\n",
    "model.init_weights()\n",
    "move_model_to_mps(model)\n",
    "\n",
    "criterion = nn.MSELoss()\n",
    "optimizer = Adam(model.parameters(), lr=0.0001, weight_decay=1e-3)\n",
    "scheduler = lr_scheduler.ReduceLROnPlateau(optimizer, mode='min', factor=0.1, patience=10)\n",
    "\n",
    "print('Model initialized')"
   ],
   "metadata": {
    "collapsed": false
   },
   "id": "dd5ea3796a14864c",
   "execution_count": null
  },
  {
   "cell_type": "code",
   "outputs": [],
   "source": [
    "train_losses = []\n",
    "val_losses = []\n",
    "\n",
    "for epoch in range(num_epochs):\n",
    "    model.train()\n",
    "    running_loss = 0.0\n",
    "    for inputs, targets in train_loader:\n",
    "        optimizer.zero_grad()\n",
    "        outputs = model(inputs)\n",
    "        loss = criterion(outputs, targets)\n",
    "        loss.backward()\n",
    "        optimizer.step()\n",
    "        running_loss += loss.item()\n",
    "\n",
    "    train_loss = running_loss / len(train_loader)\n",
    "    train_losses.append(train_loss)\n",
    "\n",
    "    model.eval()\n",
    "    val_loss = 0.0\n",
    "    correct = 0\n",
    "    total = 0\n",
    "    with torch.no_grad():\n",
    "        for inputs, targets in val_loader:\n",
    "            outputs = model(inputs)\n",
    "            loss = criterion(outputs, targets)\n",
    "            val_loss += loss.item()\n",
    "\n",
    "    val_loss = val_loss / len(val_loader)\n",
    "    val_losses.append(val_loss)\n",
    "\n",
    "    scheduler.step(val_loss)\n",
    "\n",
    "    print(f\"Epoch {epoch + 1}, Training Loss: {train_loss:.0f}, Validation Loss: {val_loss:.0f}\")\n",
    "\n",
    "print('Finished Training')"
   ],
   "metadata": {
    "collapsed": false
   },
   "id": "1d45a2e12fb66ba4",
   "execution_count": null
  },
  {
   "cell_type": "code",
   "outputs": [],
   "source": [
    "plt.figure(figsize=(12, 5))\n",
    "plt.subplot(1, 2, 1)\n",
    "plt.plot(train_losses, label='Training Loss')\n",
    "plt.plot(val_losses, label='Validation Loss')\n",
    "plt.xlabel('Epoch')\n",
    "plt.ylabel('Loss')\n",
    "plt.title('Loss during training')\n",
    "plt.legend()\n",
    "\n",
    "plt.show()"
   ],
   "metadata": {
    "collapsed": false
   },
   "id": "493ead118ef48863",
   "execution_count": null
  },
  {
   "cell_type": "code",
   "outputs": [],
   "source": [
    "torch.save(model.state_dict(), weights_file_name)\n",
    "torch.save(model, model_file_name)\n",
    "\n",
    "print('Model saved')"
   ],
   "metadata": {
    "collapsed": false
   },
   "id": "50b075676645b9c3",
   "execution_count": null
  },
  {
   "cell_type": "code",
   "outputs": [],
   "source": [],
   "metadata": {
    "collapsed": false
   },
   "id": "d397f334db6e6c6b",
   "execution_count": null
  }
 ],
 "metadata": {
  "kernelspec": {
   "display_name": "Python 3",
   "language": "python",
   "name": "python3"
  },
  "language_info": {
   "codemirror_mode": {
    "name": "ipython",
    "version": 2
   },
   "file_extension": ".py",
   "mimetype": "text/x-python",
   "name": "python",
   "nbconvert_exporter": "python",
   "pygments_lexer": "ipython2",
   "version": "2.7.6"
  }
 },
 "nbformat": 4,
 "nbformat_minor": 5
}
