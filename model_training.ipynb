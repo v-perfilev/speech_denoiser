{
 "cells": [
  {
   "cell_type": "code",
   "outputs": [],
   "source": [
    "import matplotlib.pyplot as plt\n",
    "import torch\n",
    "from torch import nn\n",
    "from torch.optim import AdamW, lr_scheduler\n",
    "\n",
    "from core.audio_handler import load_dataset\n",
    "from core.audio_model import AudioModel\n",
    "from core.dataset_handler import DatasetHandler"
   ],
   "metadata": {
    "collapsed": false,
    "ExecuteTime": {
     "end_time": "2024-02-18T19:32:20.179209Z",
     "start_time": "2024-02-18T19:32:18.924721Z"
    }
   },
   "id": "initial_id",
   "execution_count": 1
  },
  {
   "cell_type": "code",
   "outputs": [],
   "source": [
    "num_epochs = 50\n",
    "dataset_length = 1000"
   ],
   "metadata": {
    "collapsed": false,
    "ExecuteTime": {
     "end_time": "2024-02-18T19:32:20.183096Z",
     "start_time": "2024-02-18T19:32:20.180134Z"
    }
   },
   "id": "1756fe47adeb254",
   "execution_count": 2
  },
  {
   "cell_type": "code",
   "outputs": [
    {
     "name": "stdout",
     "output_type": "stream",
     "text": [
      "Finished data preparation\n"
     ]
    }
   ],
   "source": [
    "dataset_handler = DatasetHandler(use_mps=True)\n",
    "dataset = load_dataset(\"dataset.pt\")\n",
    "train_loader, val_loader = dataset_handler.split_dataset_into_data_loaders(dataset, dataset_length)\n",
    "\n",
    "print('Finished data preparation')"
   ],
   "metadata": {
    "collapsed": false,
    "ExecuteTime": {
     "end_time": "2024-02-18T19:32:21.072947Z",
     "start_time": "2024-02-18T19:32:20.182480Z"
    }
   },
   "id": "358f43797c58c78c",
   "execution_count": 3
  },
  {
   "cell_type": "code",
   "outputs": [
    {
     "name": "stdout",
     "output_type": "stream",
     "text": [
      "Model initialized\n"
     ]
    }
   ],
   "source": [
    "model = AudioModel(use_mps=True)\n",
    "model.init_weights()\n",
    "\n",
    "criterion = nn.MSELoss()\n",
    "optimizer = AdamW(model.parameters(), lr=0.001, weight_decay=1e-2)\n",
    "scheduler = lr_scheduler.ReduceLROnPlateau(optimizer, mode='min', factor=0.1, patience=10)\n",
    "\n",
    "print('Model initialized')"
   ],
   "metadata": {
    "collapsed": false,
    "ExecuteTime": {
     "end_time": "2024-02-18T19:32:21.718137Z",
     "start_time": "2024-02-18T19:32:21.073047Z"
    }
   },
   "id": "dd5ea3796a14864c",
   "execution_count": 4
  },
  {
   "cell_type": "code",
   "outputs": [
    {
     "name": "stdout",
     "output_type": "stream",
     "text": [
      "Epoch 1, Training Loss: 731, Validation Loss: 380\n",
      "Epoch 2, Training Loss: 724, Validation Loss: 380\n",
      "Epoch 3, Training Loss: 721, Validation Loss: 380\n",
      "Epoch 4, Training Loss: 719, Validation Loss: 379\n",
      "Epoch 5, Training Loss: 716, Validation Loss: 376\n",
      "Epoch 6, Training Loss: 715, Validation Loss: 377\n",
      "Epoch 7, Training Loss: 715, Validation Loss: 374\n",
      "Epoch 8, Training Loss: 713, Validation Loss: 375\n",
      "Epoch 9, Training Loss: 710, Validation Loss: 373\n",
      "Epoch 10, Training Loss: 711, Validation Loss: 375\n",
      "Epoch 11, Training Loss: 708, Validation Loss: 375\n",
      "Epoch 12, Training Loss: 708, Validation Loss: 369\n",
      "Epoch 13, Training Loss: 707, Validation Loss: 369\n",
      "Epoch 14, Training Loss: 706, Validation Loss: 369\n",
      "Epoch 15, Training Loss: 703, Validation Loss: 368\n",
      "Epoch 16, Training Loss: 701, Validation Loss: 369\n",
      "Epoch 17, Training Loss: 700, Validation Loss: 368\n",
      "Epoch 18, Training Loss: 699, Validation Loss: 367\n",
      "Epoch 19, Training Loss: 699, Validation Loss: 366\n",
      "Epoch 20, Training Loss: 698, Validation Loss: 368\n",
      "Epoch 21, Training Loss: 695, Validation Loss: 369\n",
      "Epoch 22, Training Loss: 696, Validation Loss: 365\n",
      "Epoch 23, Training Loss: 693, Validation Loss: 365\n",
      "Epoch 24, Training Loss: 692, Validation Loss: 365\n",
      "Epoch 25, Training Loss: 692, Validation Loss: 361\n",
      "Epoch 26, Training Loss: 690, Validation Loss: 364\n",
      "Epoch 27, Training Loss: 689, Validation Loss: 362\n",
      "Epoch 28, Training Loss: 687, Validation Loss: 361\n",
      "Epoch 29, Training Loss: 685, Validation Loss: 361\n",
      "Epoch 30, Training Loss: 683, Validation Loss: 358\n",
      "Epoch 31, Training Loss: 682, Validation Loss: 360\n",
      "Epoch 32, Training Loss: 682, Validation Loss: 359\n",
      "Epoch 33, Training Loss: 679, Validation Loss: 356\n",
      "Epoch 34, Training Loss: 681, Validation Loss: 358\n",
      "Epoch 35, Training Loss: 677, Validation Loss: 352\n",
      "Epoch 36, Training Loss: 678, Validation Loss: 354\n",
      "Epoch 37, Training Loss: 678, Validation Loss: 352\n",
      "Epoch 38, Training Loss: 676, Validation Loss: 348\n",
      "Epoch 39, Training Loss: 672, Validation Loss: 352\n",
      "Epoch 40, Training Loss: 672, Validation Loss: 356\n",
      "Epoch 41, Training Loss: 670, Validation Loss: 351\n",
      "Epoch 42, Training Loss: 669, Validation Loss: 350\n",
      "Epoch 43, Training Loss: 669, Validation Loss: 350\n",
      "Epoch 44, Training Loss: 668, Validation Loss: 346\n",
      "Epoch 45, Training Loss: 667, Validation Loss: 351\n",
      "Epoch 46, Training Loss: 663, Validation Loss: 350\n",
      "Epoch 47, Training Loss: 662, Validation Loss: 350\n",
      "Epoch 48, Training Loss: 664, Validation Loss: 344\n",
      "Epoch 49, Training Loss: 661, Validation Loss: 345\n",
      "Epoch 50, Training Loss: 660, Validation Loss: 347\n",
      "Finished Training\n"
     ]
    }
   ],
   "source": [
    "train_losses = []\n",
    "val_losses = []\n",
    "\n",
    "for epoch in range(num_epochs):\n",
    "    model.train()\n",
    "    running_loss = 0.0\n",
    "    for inputs, targets in train_loader:\n",
    "        optimizer.zero_grad()\n",
    "        outputs = model(inputs)\n",
    "        loss = criterion(outputs, targets)\n",
    "        loss.backward()\n",
    "        optimizer.step()\n",
    "        running_loss += loss.item()\n",
    "\n",
    "    train_loss = running_loss / len(train_loader)\n",
    "    train_losses.append(train_loss)\n",
    "\n",
    "    model.eval()\n",
    "    val_loss = 0.0\n",
    "    correct = 0\n",
    "    total = 0\n",
    "    with torch.no_grad():\n",
    "        for inputs, targets in val_loader:\n",
    "            outputs = model(inputs)\n",
    "            loss = criterion(outputs, targets)\n",
    "            val_loss += loss.item()\n",
    "\n",
    "    val_loss = val_loss / len(val_loader)\n",
    "    val_losses.append(val_loss)\n",
    "\n",
    "    scheduler.step(val_loss)\n",
    "\n",
    "    print(f\"Epoch {epoch + 1}, Training Loss: {train_loss:.0f}, Validation Loss: {val_loss:.0f}\")\n",
    "\n",
    "print('Finished Training')"
   ],
   "metadata": {
    "collapsed": false,
    "ExecuteTime": {
     "end_time": "2024-02-18T19:33:52.465344Z",
     "start_time": "2024-02-18T19:32:21.720316Z"
    }
   },
   "id": "1d45a2e12fb66ba4",
   "execution_count": 5
  },
  {
   "cell_type": "code",
   "outputs": [
    {
     "data": {
      "text/plain": "<Figure size 1200x500 with 1 Axes>",
      "image/png": "[encoded data removed]"
     },
     "metadata": {},
     "output_type": "display_data"
    }
   ],
   "source": [
    "plt.figure(figsize=(12, 5))\n",
    "plt.subplot(1, 2, 1)\n",
    "plt.plot(train_losses, label='Training Loss')\n",
    "plt.plot(val_losses, label='Validation Loss')\n",
    "plt.xlabel('Epoch')\n",
    "plt.ylabel('Loss')\n",
    "plt.title('Loss during training')\n",
    "plt.legend()\n",
    "\n",
    "plt.show()"
   ],
   "metadata": {
    "collapsed": false,
    "ExecuteTime": {
     "end_time": "2024-02-18T19:33:52.566681Z",
     "start_time": "2024-02-18T19:33:52.464165Z"
    }
   },
   "id": "493ead118ef48863",
   "execution_count": 6
  },
  {
   "cell_type": "code",
   "outputs": [
    {
     "name": "stdout",
     "output_type": "stream",
     "text": [
      "Model saved\n"
     ]
    }
   ],
   "source": [
    "model.save()\n",
    "print('Model saved')"
   ],
   "metadata": {
    "collapsed": false,
    "ExecuteTime": {
     "end_time": "2024-02-18T19:33:52.585455Z",
     "start_time": "2024-02-18T19:33:52.567811Z"
    }
   },
   "id": "50b075676645b9c3",
   "execution_count": 7
  }
 ],
 "metadata": {
  "kernelspec": {
   "display_name": "Python 3",
   "language": "python",
   "name": "python3"
  },
  "language_info": {
   "codemirror_mode": {
    "name": "ipython",
    "version": 2
   },
   "file_extension": ".py",
   "mimetype": "text/x-python",
   "name": "python",
   "nbconvert_exporter": "python",
   "pygments_lexer": "ipython2",
   "version": "2.7.6"
  }
 },
 "nbformat": 4,
 "nbformat_minor": 5
}
