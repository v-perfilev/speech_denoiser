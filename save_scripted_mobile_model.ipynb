{
 "cells": [
  {
   "cell_type": "code",
   "source": [
    "import torch\n",
    "from torch.utils.mobile_optimizer import optimize_for_mobile\n",
    "\n",
    "from core.audio_model import AudioModel"
   ],
   "metadata": {
    "collapsed": false
   },
   "id": "initial_id",
   "outputs": [],
   "execution_count": null
  },
  {
   "metadata": {},
   "cell_type": "code",
   "source": [
    "model_path = \"../_models/speech_denoiser_model.pth\"\n",
    "model: AudioModel = torch.load(model_path, map_location='cpu')\n",
    "model.eval()"
   ],
   "id": "fd0439b03b03ffea",
   "outputs": [],
   "execution_count": null
  },
  {
   "metadata": {},
   "cell_type": "code",
   "source": [
    "# Fuse model\n",
    "modules_to_fuse = [\n",
    "    ['encoder.enc_block.0', 'encoder.enc_block.1'],\n",
    "    ['bottleneck.block.0', 'bottleneck.block.1'],\n",
    "    ['decoder.dec_block.0', 'decoder.dec_block.1']\n",
    "]\n",
    "torch.quantization.fuse_modules(model, modules_to_fuse, inplace=True)"
   ],
   "id": "3392a52d922af2f8",
   "outputs": [],
   "execution_count": null
  },
  {
   "metadata": {},
   "cell_type": "code",
   "source": [
    "# Quantize\n",
    "model = torch.quantization.convert(model)"
   ],
   "id": "9736c74557d01987",
   "outputs": [],
   "execution_count": null
  },
  {
   "metadata": {},
   "cell_type": "code",
   "source": [
    "# Trace model\n",
    "example_input = torch.randn(1, 1, 128, 64)\n",
    "traced_model = torch.jit.trace(model, example_input)"
   ],
   "id": "29267c838fe646d1",
   "outputs": [],
   "execution_count": null
  },
  {
   "metadata": {},
   "cell_type": "code",
   "source": [
    "# Optimize for mobile\n",
    "optimized_model = torch.utils.mobile_optimizer.optimize_for_mobile(traced_model)"
   ],
   "id": "57c1e0f23bcc9f3f",
   "outputs": [],
   "execution_count": null
  },
  {
   "metadata": {},
   "cell_type": "code",
   "source": "torch.jit.save(optimized_model, \"../_models/speech_denoiser_model_mobile.pt\")",
   "id": "fb8f1be512627991",
   "outputs": [],
   "execution_count": null
  }
 ],
 "metadata": {
  "kernelspec": {
   "display_name": "Python 3",
   "language": "python",
   "name": "python3"
  },
  "language_info": {
   "codemirror_mode": {
    "name": "ipython",
    "version": 2
   },
   "file_extension": ".py",
   "mimetype": "text/x-python",
   "name": "python",
   "nbconvert_exporter": "python",
   "pygments_lexer": "ipython2",
   "version": "2.7.6"
  }
 },
 "nbformat": 4,
 "nbformat_minor": 5
}
