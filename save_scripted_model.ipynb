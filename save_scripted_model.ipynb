{
 "cells": [
  {
   "cell_type": "code",
   "source": "import torch",
   "metadata": {
    "collapsed": false
   },
   "id": "initial_id",
   "outputs": [],
   "execution_count": null
  },
  {
   "metadata": {},
   "cell_type": "code",
   "source": [
    "model_path = \"../_models/speech_denoiser_model.pth\"\n",
    "model = torch.load(model_path, map_location='cpu')"
   ],
   "id": "fd0439b03b03ffea",
   "outputs": [],
   "execution_count": null
  },
  {
   "metadata": {},
   "cell_type": "code",
   "source": [
    "scripted_model = torch.jit.script(model)\n",
    "scripted_model.save(\"../_models/speech_denoiser_model_scripted.pth\")"
   ],
   "id": "fb8f1be512627991",
   "outputs": [],
   "execution_count": null
  }
 ],
 "metadata": {
  "kernelspec": {
   "display_name": "Python 3",
   "language": "python",
   "name": "python3"
  },
  "language_info": {
   "codemirror_mode": {
    "name": "ipython",
    "version": 2
   },
   "file_extension": ".py",
   "mimetype": "text/x-python",
   "name": "python",
   "nbconvert_exporter": "python",
   "pygments_lexer": "ipython2",
   "version": "2.7.6"
  }
 },
 "nbformat": 4,
 "nbformat_minor": 5
}
