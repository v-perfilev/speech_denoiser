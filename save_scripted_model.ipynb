{
 "cells": [
  {
   "cell_type": "code",
   "source": "import torch",
   "metadata": {
    "collapsed": false,
    "ExecuteTime": {
     "end_time": "2024-05-01T18:15:51.315319Z",
     "start_time": "2024-05-01T18:15:50.508118Z"
    }
   },
   "id": "initial_id",
   "outputs": [],
   "execution_count": 1
  },
  {
   "metadata": {
    "ExecuteTime": {
     "end_time": "2024-05-01T18:15:55.655648Z",
     "start_time": "2024-05-01T18:15:55.633871Z"
    }
   },
   "cell_type": "code",
   "source": [
    "model_path = \"../_models/speech_denoiser_model.pth\"\n",
    "model = torch.load(model_path, map_location='cpu')"
   ],
   "id": "fd0439b03b03ffea",
   "outputs": [],
   "execution_count": 2
  },
  {
   "metadata": {
    "ExecuteTime": {
     "end_time": "2024-05-01T18:16:14.662827Z",
     "start_time": "2024-05-01T18:16:14.620790Z"
    }
   },
   "cell_type": "code",
   "source": [
    "scripted_model = torch.jit.script(model)\n",
    "scripted_model.save(\"../_models/speech_denoiser_model_scripted.pth\")"
   ],
   "id": "fb8f1be512627991",
   "outputs": [],
   "execution_count": 5
  }
 ],
 "metadata": {
  "kernelspec": {
   "display_name": "Python 3",
   "language": "python",
   "name": "python3"
  },
  "language_info": {
   "codemirror_mode": {
    "name": "ipython",
    "version": 2
   },
   "file_extension": ".py",
   "mimetype": "text/x-python",
   "name": "python",
   "nbconvert_exporter": "python",
   "pygments_lexer": "ipython2",
   "version": "2.7.6"
  }
 },
 "nbformat": 4,
 "nbformat_minor": 5
}
