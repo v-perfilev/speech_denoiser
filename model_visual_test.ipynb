{
 "cells": [
  {
   "cell_type": "code",
   "source": [
    "import torch\n",
    "\n",
    "from utils.audio_utils import load_waveform, divide_waveform, waveform_to_spectrogram, \\\n",
    "    spectrogram_to_waveform, compile_waveform, save_waveform\n",
    "from utils.plot_utils import show_spectrogram, show_waveform"
   ],
   "metadata": {
    "collapsed": false
   },
   "id": "initial_id",
   "outputs": [],
   "execution_count": null
  },
  {
   "metadata": {},
   "cell_type": "code",
   "source": [
    "model_path = \"../_models/speech_denoiser_model.pth\"\n",
    "model = torch.load(model_path, map_location='cpu')"
   ],
   "id": "fd0439b03b03ffea",
   "outputs": [],
   "execution_count": null
  },
  {
   "metadata": {},
   "cell_type": "code",
   "source": [
    "model.eval()\n",
    "\n",
    "waveform, rate = load_waveform('target/source_sample.wav')\n",
    "\n",
    "chunks = divide_waveform(waveform)\n",
    "spectrograms = waveform_to_spectrogram(chunks)\n",
    "denoised_spectrograms = model(spectrograms)\n",
    "denoised_waveforms = spectrogram_to_waveform(denoised_spectrograms)\n",
    "denoised_waveform = compile_waveform(denoised_waveforms)\n",
    "\n",
    "save_waveform(denoised_waveform, 'test_sample.wav')"
   ],
   "id": "fb8f1be512627991",
   "outputs": [],
   "execution_count": null
  },
  {
   "metadata": {},
   "cell_type": "code",
   "source": [
    "show_spectrogram(waveform, \"Source audio\")\n",
    "show_spectrogram(denoised_waveform, \"Denoised audio\")"
   ],
   "id": "137222af208aac06",
   "outputs": [],
   "execution_count": null
  },
  {
   "metadata": {},
   "cell_type": "code",
   "source": [
    "show_waveform(waveform, \"Source audio\")\n",
    "show_waveform(denoised_waveform, \"Denoised audio\")"
   ],
   "id": "16813fca55871ab5",
   "outputs": [],
   "execution_count": null
  }
 ],
 "metadata": {
  "kernelspec": {
   "display_name": "Python 3",
   "language": "python",
   "name": "python3"
  },
  "language_info": {
   "codemirror_mode": {
    "name": "ipython",
    "version": 2
   },
   "file_extension": ".py",
   "mimetype": "text/x-python",
   "name": "python",
   "nbconvert_exporter": "python",
   "pygments_lexer": "ipython2",
   "version": "2.7.6"
  }
 },
 "nbformat": 4,
 "nbformat_minor": 5
}
