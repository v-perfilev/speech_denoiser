{
 "cells": [
  {
   "cell_type": "code",
   "execution_count": null,
   "id": "initial_id",
   "metadata": {
    "collapsed": true
   },
   "outputs": [],
   "source": [
    "from core.audio_handler import AudioHandler\n",
    "from core.audio_model import AudioModel\n",
    "from core.denoiser import Denoiser\n",
    "from core.plot import plot_waveform"
   ]
  },
  {
   "cell_type": "code",
   "outputs": [],
   "source": [
    "model = AudioModel(use_mps=False)\n",
    "model.load()\n",
    "audio_handler = AudioHandler()\n",
    "\n",
    "denoiser = Denoiser(model, audio_handler)\n",
    "\n",
    "noisy_sample, _ = audio_handler.load_audio('target/source_sample.wav')\n",
    "clean_sample, _ = denoiser.denoise_sample(noisy_sample)\n",
    "\n",
    "audio_handler.save_sample(clean_sample, 'denoised_sample.wav')\n",
    "\n",
    "plot_waveform(noisy_sample, audio_handler.rate, title='Noisy Audio')\n",
    "plot_waveform(clean_sample.detach(), audio_handler.rate, title='Clean Audio')"
   ],
   "metadata": {
    "collapsed": false
   },
   "id": "53407bc125388e75",
   "execution_count": null
  },
  {
   "cell_type": "code",
   "outputs": [],
   "source": [],
   "metadata": {
    "collapsed": false
   },
   "id": "f5918ae2956d2333",
   "execution_count": null
  }
 ],
 "metadata": {
  "kernelspec": {
   "display_name": "Python 3",
   "language": "python",
   "name": "python3"
  },
  "language_info": {
   "codemirror_mode": {
    "name": "ipython",
    "version": 2
   },
   "file_extension": ".py",
   "mimetype": "text/x-python",
   "name": "python",
   "nbconvert_exporter": "python",
   "pygments_lexer": "ipython2",
   "version": "2.7.6"
  }
 },
 "nbformat": 4,
 "nbformat_minor": 5
}
