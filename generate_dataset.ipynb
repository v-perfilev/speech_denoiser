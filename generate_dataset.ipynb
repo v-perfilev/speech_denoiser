{
 "cells": [
  {
   "cell_type": "code",
   "execution_count": 1,
   "id": "initial_id",
   "metadata": {
    "collapsed": true,
    "ExecuteTime": {
     "end_time": "2024-02-18T18:33:59.934245Z",
     "start_time": "2024-02-18T18:33:58.995234Z"
    }
   },
   "outputs": [],
   "source": [
    "import os.path\n",
    "\n",
    "from core.audio_dataset import AudioDataset\n",
    "from core.audio_handler import save_dataset\n",
    "from core.file_handler import FileHandler"
   ]
  },
  {
   "cell_type": "code",
   "outputs": [],
   "source": [
    "speech_path = os.path.abspath('../datasets/speech')\n",
    "sounds_path = os.path.abspath('../datasets/sounds')\n",
    "noises_path = os.path.abspath('../datasets/noises')\n",
    "\n",
    "count = 1000"
   ],
   "metadata": {
    "collapsed": false,
    "ExecuteTime": {
     "end_time": "2024-02-18T18:33:59.938734Z",
     "start_time": "2024-02-18T18:33:59.935449Z"
    }
   },
   "id": "624aa7fd7db0f9f",
   "execution_count": 2
  },
  {
   "cell_type": "code",
   "outputs": [
    {
     "name": "stdout",
     "output_type": "stream",
     "text": [
      "Found 1000 speech files and 150 sound files\n"
     ]
    }
   ],
   "source": [
    "file_handler = FileHandler()\n",
    "\n",
    "speech_files = file_handler.get_file_paths([speech_path], 'mp3', limit=count)\n",
    "sound_files = (file_handler.get_file_paths([sounds_path], 'wav', limit=100)\n",
    "               + file_handler.get_file_paths([noises_path], 'wav'))\n",
    "\n",
    "print(f\"Found {len(speech_files)} speech files and {len(sound_files)} sound files\")"
   ],
   "metadata": {
    "collapsed": false,
    "ExecuteTime": {
     "end_time": "2024-02-18T18:34:00.104530Z",
     "start_time": "2024-02-18T18:33:59.938312Z"
    }
   },
   "id": "1055f33e883fb27a",
   "execution_count": 3
  },
  {
   "cell_type": "code",
   "outputs": [
    {
     "name": "stdout",
     "output_type": "stream",
     "text": [
      "Dataset created and saved\n"
     ]
    }
   ],
   "source": [
    "dataset = AudioDataset(speech_files, sound_files)\n",
    "save_dataset(dataset, 'dataset.pt')\n",
    "\n",
    "print(\"Dataset created and saved\")"
   ],
   "metadata": {
    "collapsed": false,
    "ExecuteTime": {
     "end_time": "2024-02-18T18:34:22.090819Z",
     "start_time": "2024-02-18T18:34:00.111976Z"
    }
   },
   "id": "a59cdead232f1d6",
   "execution_count": 4
  }
 ],
 "metadata": {
  "kernelspec": {
   "display_name": "Python 3",
   "language": "python",
   "name": "python3"
  },
  "language_info": {
   "codemirror_mode": {
    "name": "ipython",
    "version": 2
   },
   "file_extension": ".py",
   "mimetype": "text/x-python",
   "name": "python",
   "nbconvert_exporter": "python",
   "pygments_lexer": "ipython2",
   "version": "2.7.6"
  }
 },
 "nbformat": 4,
 "nbformat_minor": 5
}
