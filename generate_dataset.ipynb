{
 "cells": [
  {
   "cell_type": "code",
   "execution_count": 1,
   "id": "initial_id",
   "metadata": {
    "collapsed": true,
    "ExecuteTime": {
     "end_time": "2024-02-17T22:58:14.016375Z",
     "start_time": "2024-02-17T22:58:12.718228Z"
    }
   },
   "outputs": [],
   "source": [
    "import os.path\n",
    "\n",
    "from core.audio_dataset import AudioDataset\n",
    "from core.audio_handler import save_dataset\n",
    "from core.file_handler import FileHandler"
   ]
  },
  {
   "cell_type": "code",
   "outputs": [],
   "source": [
    "speech_path = os.path.abspath('../datasets/speech')\n",
    "sounds_path = os.path.abspath('../datasets/sounds')\n",
    "\n",
    "count = 5000"
   ],
   "metadata": {
    "collapsed": false,
    "ExecuteTime": {
     "end_time": "2024-02-17T22:58:14.035073Z",
     "start_time": "2024-02-17T22:58:14.016092Z"
    }
   },
   "id": "624aa7fd7db0f9f",
   "execution_count": 2
  },
  {
   "cell_type": "code",
   "outputs": [
    {
     "name": "stdout",
     "output_type": "stream",
     "text": [
      "Found 5000 speech files and 8732 sound files\n"
     ]
    }
   ],
   "source": [
    "file_handler = FileHandler()\n",
    "\n",
    "speech_files = file_handler.get_file_paths([speech_path], 'mp3', limit=count)\n",
    "sound_files = file_handler.get_file_paths([sounds_path], 'wav')\n",
    "\n",
    "print(f\"Found {len(speech_files)} speech files and {len(sound_files)} sound files\")"
   ],
   "metadata": {
    "collapsed": false,
    "ExecuteTime": {
     "end_time": "2024-02-17T22:58:14.402512Z",
     "start_time": "2024-02-17T22:58:14.020524Z"
    }
   },
   "id": "1055f33e883fb27a",
   "execution_count": 3
  },
  {
   "cell_type": "code",
   "outputs": [
    {
     "name": "stdout",
     "output_type": "stream",
     "text": [
      "Dataset created and saved\n"
     ]
    }
   ],
   "source": [
    "dataset = AudioDataset(speech_files, sound_files)\n",
    "save_dataset(dataset)\n",
    "\n",
    "print(\"Dataset created and saved\")"
   ],
   "metadata": {
    "collapsed": false,
    "ExecuteTime": {
     "end_time": "2024-02-17T23:11:52.870157Z",
     "start_time": "2024-02-17T22:58:14.401774Z"
    }
   },
   "id": "a59cdead232f1d6",
   "execution_count": 4
  }
 ],
 "metadata": {
  "kernelspec": {
   "display_name": "Python 3",
   "language": "python",
   "name": "python3"
  },
  "language_info": {
   "codemirror_mode": {
    "name": "ipython",
    "version": 2
   },
   "file_extension": ".py",
   "mimetype": "text/x-python",
   "name": "python",
   "nbconvert_exporter": "python",
   "pygments_lexer": "ipython2",
   "version": "2.7.6"
  }
 },
 "nbformat": 4,
 "nbformat_minor": 5
}
