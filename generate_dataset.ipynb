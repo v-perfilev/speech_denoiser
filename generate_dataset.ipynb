{
 "cells": [
  {
   "cell_type": "code",
   "execution_count": 1,
   "id": "initial_id",
   "metadata": {
    "collapsed": true,
    "ExecuteTime": {
     "end_time": "2024-02-17T18:48:16.764263Z",
     "start_time": "2024-02-17T18:48:15.560146Z"
    }
   },
   "outputs": [],
   "source": [
    "import os.path\n",
    "\n",
    "from core.audio_dataset import AudioDataset\n",
    "from core.audio_handler import save_dataset\n",
    "from core.file_handler import FileHandler"
   ]
  },
  {
   "cell_type": "code",
   "outputs": [],
   "source": [
    "speech_path = os.path.abspath('../datasets/speech')\n",
    "sounds_path = os.path.abspath('../datasets/sounds')\n",
    "\n",
    "count = 10"
   ],
   "metadata": {
    "collapsed": false,
    "ExecuteTime": {
     "end_time": "2024-02-17T18:48:16.769184Z",
     "start_time": "2024-02-17T18:48:16.765035Z"
    }
   },
   "id": "624aa7fd7db0f9f",
   "execution_count": 2
  },
  {
   "cell_type": "code",
   "outputs": [
    {
     "name": "stdout",
     "output_type": "stream",
     "text": [
      "Found 10 speech files and 8732 sound files\n"
     ]
    }
   ],
   "source": [
    "file_handler = FileHandler()\n",
    "\n",
    "speech_files = file_handler.get_file_paths([speech_path], 'mp3', limit=count)\n",
    "sound_files = file_handler.get_file_paths([sounds_path], 'wav')\n",
    "\n",
    "print(f\"Found {len(speech_files)} speech files and {len(sound_files)} sound files\")"
   ],
   "metadata": {
    "collapsed": false,
    "ExecuteTime": {
     "end_time": "2024-02-17T18:48:16.840465Z",
     "start_time": "2024-02-17T18:48:16.767784Z"
    }
   },
   "id": "1055f33e883fb27a",
   "execution_count": 3
  },
  {
   "cell_type": "code",
   "outputs": [
    {
     "name": "stdout",
     "output_type": "stream",
     "text": [
      "Dataset created and saved\n"
     ]
    }
   ],
   "source": [
    "dataset = AudioDataset(speech_files, sound_files)\n",
    "save_dataset(dataset)\n",
    "\n",
    "print(\"Dataset created and saved\")"
   ],
   "metadata": {
    "collapsed": false,
    "ExecuteTime": {
     "end_time": "2024-02-17T18:48:18.935079Z",
     "start_time": "2024-02-17T18:48:16.839698Z"
    }
   },
   "id": "a59cdead232f1d6",
   "execution_count": 4
  }
 ],
 "metadata": {
  "kernelspec": {
   "display_name": "Python 3",
   "language": "python",
   "name": "python3"
  },
  "language_info": {
   "codemirror_mode": {
    "name": "ipython",
    "version": 2
   },
   "file_extension": ".py",
   "mimetype": "text/x-python",
   "name": "python",
   "nbconvert_exporter": "python",
   "pygments_lexer": "ipython2",
   "version": "2.7.6"
  }
 },
 "nbformat": 4,
 "nbformat_minor": 5
}
